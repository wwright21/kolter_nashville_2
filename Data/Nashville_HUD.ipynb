{
 "cells": [
  {
   "cell_type": "markdown",
   "metadata": {},
   "source": [
    "### dependencies & create nationwide FIPS dictionary\n"
   ]
  },
  {
   "cell_type": "code",
   "execution_count": 5,
   "metadata": {},
   "outputs": [
    {
     "data": {
      "text/html": [
       "<div>\n",
       "<style scoped>\n",
       "    .dataframe tbody tr th:only-of-type {\n",
       "        vertical-align: middle;\n",
       "    }\n",
       "\n",
       "    .dataframe tbody tr th {\n",
       "        vertical-align: top;\n",
       "    }\n",
       "\n",
       "    .dataframe thead th {\n",
       "        text-align: right;\n",
       "    }\n",
       "</style>\n",
       "<table border=\"1\" class=\"dataframe\">\n",
       "  <thead>\n",
       "    <tr style=\"text-align: right;\">\n",
       "      <th></th>\n",
       "      <th>FIPS</th>\n",
       "      <th>County_name</th>\n",
       "      <th>State</th>\n",
       "    </tr>\n",
       "  </thead>\n",
       "  <tbody>\n",
       "    <tr>\n",
       "      <th>2470</th>\n",
       "      <td>47001</td>\n",
       "      <td>Anderson County</td>\n",
       "      <td>Tennessee</td>\n",
       "    </tr>\n",
       "    <tr>\n",
       "      <th>2471</th>\n",
       "      <td>47003</td>\n",
       "      <td>Bedford County</td>\n",
       "      <td>Tennessee</td>\n",
       "    </tr>\n",
       "    <tr>\n",
       "      <th>2472</th>\n",
       "      <td>47005</td>\n",
       "      <td>Benton County</td>\n",
       "      <td>Tennessee</td>\n",
       "    </tr>\n",
       "    <tr>\n",
       "      <th>2473</th>\n",
       "      <td>47007</td>\n",
       "      <td>Bledsoe County</td>\n",
       "      <td>Tennessee</td>\n",
       "    </tr>\n",
       "    <tr>\n",
       "      <th>2474</th>\n",
       "      <td>47009</td>\n",
       "      <td>Blount County</td>\n",
       "      <td>Tennessee</td>\n",
       "    </tr>\n",
       "    <tr>\n",
       "      <th>...</th>\n",
       "      <td>...</td>\n",
       "      <td>...</td>\n",
       "      <td>...</td>\n",
       "    </tr>\n",
       "    <tr>\n",
       "      <th>2560</th>\n",
       "      <td>47181</td>\n",
       "      <td>Wayne County</td>\n",
       "      <td>Tennessee</td>\n",
       "    </tr>\n",
       "    <tr>\n",
       "      <th>2561</th>\n",
       "      <td>47183</td>\n",
       "      <td>Weakley County</td>\n",
       "      <td>Tennessee</td>\n",
       "    </tr>\n",
       "    <tr>\n",
       "      <th>2562</th>\n",
       "      <td>47185</td>\n",
       "      <td>White County</td>\n",
       "      <td>Tennessee</td>\n",
       "    </tr>\n",
       "    <tr>\n",
       "      <th>2563</th>\n",
       "      <td>47187</td>\n",
       "      <td>Williamson County</td>\n",
       "      <td>Tennessee</td>\n",
       "    </tr>\n",
       "    <tr>\n",
       "      <th>2564</th>\n",
       "      <td>47189</td>\n",
       "      <td>Wilson County</td>\n",
       "      <td>Tennessee</td>\n",
       "    </tr>\n",
       "  </tbody>\n",
       "</table>\n",
       "<p>95 rows × 3 columns</p>\n",
       "</div>"
      ],
      "text/plain": [
       "       FIPS        County_name      State\n",
       "2470  47001    Anderson County  Tennessee\n",
       "2471  47003     Bedford County  Tennessee\n",
       "2472  47005      Benton County  Tennessee\n",
       "2473  47007     Bledsoe County  Tennessee\n",
       "2474  47009      Blount County  Tennessee\n",
       "...     ...                ...        ...\n",
       "2560  47181       Wayne County  Tennessee\n",
       "2561  47183     Weakley County  Tennessee\n",
       "2562  47185       White County  Tennessee\n",
       "2563  47187  Williamson County  Tennessee\n",
       "2564  47189      Wilson County  Tennessee\n",
       "\n",
       "[95 rows x 3 columns]"
      ]
     },
     "execution_count": 5,
     "metadata": {},
     "output_type": "execute_result"
    }
   ],
   "source": [
    "import pandas as pd\n",
    "import requests\n",
    "from datetime import timedelta, datetime\n",
    "import plotly.express as px\n",
    "\n",
    "# Gloabal variables\n",
    "state_fips = '47'\n",
    "metro_name = 'Nashville'\n",
    "wiki_link = 'https://en.wikipedia.org/wiki/List_of_counties_in_Tennessee'\n",
    "starting_year = 2022\n",
    "county_dict = {\n",
    "    '47015': 'Cannon',\n",
    "    '47021': 'Cheatham',\n",
    "    '47037': 'Davidson',\n",
    "    '47043': 'Dickson',\n",
    "    '47081': 'Hickman',\n",
    "    '47111': 'Macon',\n",
    "    '47119': 'Maury',\n",
    "    '47147': 'Robertson',\n",
    "    '47149': 'Rutherford',\n",
    "    '47159': 'Smith',\n",
    "    '47165': 'Sumner',\n",
    "    '47169': 'Trousdale',\n",
    "    '47187': 'Williamson',\n",
    "    '47189': 'Wilson'\n",
    "}\n",
    "\n",
    "fips_dict = {\n",
    "    '01': 'Alabama',\n",
    "    '02': 'Alaska',\n",
    "    '04': 'Arizona',\n",
    "    '05': 'Arkansas',\n",
    "    '06': 'California',\n",
    "    '08': 'Colorado',\n",
    "    '09': 'Connecticut',\n",
    "    '10': 'Delaware',\n",
    "    '11': 'District of Columbia',\n",
    "    '12': 'Florida',\n",
    "    '13': 'Georgia',\n",
    "    '15': 'Hawaii',\n",
    "    '16': 'Idaho',\n",
    "    '17': 'Illinois',\n",
    "    '18': 'Indiana',\n",
    "    '19': 'Iowa',\n",
    "    '20': 'Kansas',\n",
    "    '21': 'Kentucky',\n",
    "    '22': 'Louisiana',\n",
    "    '23': 'Maine',\n",
    "    '24': 'Maryland',\n",
    "    '25': 'Massachusetts',\n",
    "    '26': 'Michigan',\n",
    "    '27': 'Minnesota',\n",
    "    '28': 'Mississippi',\n",
    "    '29': 'Missouri',\n",
    "    '30': 'Montana',\n",
    "    '31': 'Nebraska',\n",
    "    '32': 'Nevada',\n",
    "    '33': 'New Hampshire',\n",
    "    '34': 'New Jersey',\n",
    "    '35': 'New Mexico',\n",
    "    '36': 'New York',\n",
    "    '37': 'North Carolina',\n",
    "    '38': 'North Dakota',\n",
    "    '39': 'Ohio',\n",
    "    '40': 'Oklahoma',\n",
    "    '41': 'Oregon',\n",
    "    '42': 'Pennsylvania',\n",
    "    '44': 'Rhode Island',\n",
    "    '45': 'South Carolina',\n",
    "    '46': 'South Dakota',\n",
    "    '47': 'Tennessee',\n",
    "    '48': 'Texas',\n",
    "    '49': 'Utah',\n",
    "    '50': 'Vermont',\n",
    "    '51': 'Virginia',\n",
    "    '53': 'Washington',\n",
    "    '54': 'West Virginia',\n",
    "    '55': 'Wisconsin',\n",
    "    '56': 'Wyoming'\n",
    "}\n",
    "\n",
    "url = 'https://transition.fcc.gov/oet/info/maps/census/fips/fips.txt'\n",
    "\n",
    "# Fetch the content from the URL\n",
    "response = requests.get(url)\n",
    "response.raise_for_status()  # Check that the request was successful\n",
    "\n",
    "table = response.text.split('------------    --------------\\n')[1]\n",
    "\n",
    "# Strip leading/trailing whitespace and split by newline\n",
    "lines = table.strip().split('\\n')\n",
    "\n",
    "# Create a DataFrame from the list of lines\n",
    "df = pd.DataFrame(lines, columns=['Data'])\n",
    "\n",
    "# Split the 'Data' column on the first space\n",
    "df[['FIPS', 'County_name']] = df['Data'].str.split(n=1, expand=True)\n",
    "\n",
    "# Drop the original 'Data' column\n",
    "df = df.drop(columns=['Data'])\n",
    "\n",
    "# Drop rows where 'FIPS' ends with '000'\n",
    "df = df[~df['FIPS'].str.endswith('000')]\n",
    "\n",
    "# Extract the first 2 digits from 'FIPS' column\n",
    "df['State_code'] = df['FIPS'].str[:2]\n",
    "\n",
    "# Map 'State_code' to 'State' using fips_dict\n",
    "df['State'] = df['State_code'].map(fips_dict)\n",
    "\n",
    "# Drop the 'State_code' column if not needed\n",
    "df_FIPS = df.drop(columns=['State_code'])\n",
    "\n",
    "df_Tennessee = df_FIPS[df_FIPS['FIPS'].str.startswith(state_fips)]\n",
    "\n",
    "df_Tennessee"
   ]
  },
  {
   "cell_type": "markdown",
   "metadata": {},
   "source": [
    "### now get population, merge with above table\n"
   ]
  },
  {
   "cell_type": "code",
   "execution_count": 4,
   "metadata": {},
   "outputs": [
    {
     "data": {
      "text/html": [
       "<div>\n",
       "<style scoped>\n",
       "    .dataframe tbody tr th:only-of-type {\n",
       "        vertical-align: middle;\n",
       "    }\n",
       "\n",
       "    .dataframe tbody tr th {\n",
       "        vertical-align: top;\n",
       "    }\n",
       "\n",
       "    .dataframe thead th {\n",
       "        text-align: right;\n",
       "    }\n",
       "</style>\n",
       "<table border=\"1\" class=\"dataframe\">\n",
       "  <thead>\n",
       "    <tr style=\"text-align: right;\">\n",
       "      <th></th>\n",
       "      <th>FIPS</th>\n",
       "      <th>County_name</th>\n",
       "      <th>State</th>\n",
       "      <th>population</th>\n",
       "    </tr>\n",
       "  </thead>\n",
       "  <tbody>\n",
       "    <tr>\n",
       "      <th>0</th>\n",
       "      <td>47001</td>\n",
       "      <td>Anderson</td>\n",
       "      <td>Tennessee</td>\n",
       "      <td>80234</td>\n",
       "    </tr>\n",
       "    <tr>\n",
       "      <th>1</th>\n",
       "      <td>47003</td>\n",
       "      <td>Bedford</td>\n",
       "      <td>Tennessee</td>\n",
       "      <td>53055</td>\n",
       "    </tr>\n",
       "    <tr>\n",
       "      <th>2</th>\n",
       "      <td>47005</td>\n",
       "      <td>Benton</td>\n",
       "      <td>Tennessee</td>\n",
       "      <td>16103</td>\n",
       "    </tr>\n",
       "    <tr>\n",
       "      <th>3</th>\n",
       "      <td>47007</td>\n",
       "      <td>Bledsoe</td>\n",
       "      <td>Tennessee</td>\n",
       "      <td>15060</td>\n",
       "    </tr>\n",
       "    <tr>\n",
       "      <th>4</th>\n",
       "      <td>47009</td>\n",
       "      <td>Blount</td>\n",
       "      <td>Tennessee</td>\n",
       "      <td>141456</td>\n",
       "    </tr>\n",
       "    <tr>\n",
       "      <th>...</th>\n",
       "      <td>...</td>\n",
       "      <td>...</td>\n",
       "      <td>...</td>\n",
       "      <td>...</td>\n",
       "    </tr>\n",
       "    <tr>\n",
       "      <th>90</th>\n",
       "      <td>47181</td>\n",
       "      <td>Wayne</td>\n",
       "      <td>Tennessee</td>\n",
       "      <td>16066</td>\n",
       "    </tr>\n",
       "    <tr>\n",
       "      <th>91</th>\n",
       "      <td>47183</td>\n",
       "      <td>Weakley</td>\n",
       "      <td>Tennessee</td>\n",
       "      <td>33084</td>\n",
       "    </tr>\n",
       "    <tr>\n",
       "      <th>92</th>\n",
       "      <td>47185</td>\n",
       "      <td>White</td>\n",
       "      <td>Tennessee</td>\n",
       "      <td>28692</td>\n",
       "    </tr>\n",
       "    <tr>\n",
       "      <th>93</th>\n",
       "      <td>47187</td>\n",
       "      <td>Williamson</td>\n",
       "      <td>Tennessee</td>\n",
       "      <td>264460</td>\n",
       "    </tr>\n",
       "    <tr>\n",
       "      <th>94</th>\n",
       "      <td>47189</td>\n",
       "      <td>Wilson</td>\n",
       "      <td>Tennessee</td>\n",
       "      <td>163674</td>\n",
       "    </tr>\n",
       "  </tbody>\n",
       "</table>\n",
       "<p>95 rows × 4 columns</p>\n",
       "</div>"
      ],
      "text/plain": [
       "     FIPS County_name      State  population\n",
       "0   47001    Anderson  Tennessee       80234\n",
       "1   47003     Bedford  Tennessee       53055\n",
       "2   47005      Benton  Tennessee       16103\n",
       "3   47007     Bledsoe  Tennessee       15060\n",
       "4   47009      Blount  Tennessee      141456\n",
       "..    ...         ...        ...         ...\n",
       "90  47181       Wayne  Tennessee       16066\n",
       "91  47183     Weakley  Tennessee       33084\n",
       "92  47185       White  Tennessee       28692\n",
       "93  47187  Williamson  Tennessee      264460\n",
       "94  47189      Wilson  Tennessee      163674\n",
       "\n",
       "[95 rows x 4 columns]"
      ]
     },
     "execution_count": 4,
     "metadata": {},
     "output_type": "execute_result"
    }
   ],
   "source": [
    "# Read all tables from the page\n",
    "county_Poptable = pd.read_html(wiki_link, header=0)[1]\n",
    "\n",
    "county_Poptable = county_Poptable.rename(columns={\n",
    "    'FIPS code[8]': 'FIPS',\n",
    "    'Population': 'population'\n",
    "})\n",
    "\n",
    "county_Poptable = county_Poptable[[\n",
    "    'County',\n",
    "    'FIPS',\n",
    "    'population'\n",
    "]]\n",
    "\n",
    "# create the full FIPS code\n",
    "county_Poptable['FIPS'] = '47' + \\\n",
    "    county_Poptable['FIPS'].astype(str).str.zfill(3)\n",
    "\n",
    "df_Tennessee_pop = pd.merge(\n",
    "    df_Tennessee,\n",
    "    county_Poptable,\n",
    "    how='left',\n",
    "    on='FIPS'\n",
    ").drop(columns='County')\n",
    "\n",
    "# remove the \" County\" substring from 'County' column\n",
    "df_Tennessee_pop['County_name'] = df_Tennessee_pop['County_name'].str.replace(\n",
    "    ' County', '')\n",
    "\n",
    "df_Tennessee_pop"
   ]
  },
  {
   "cell_type": "markdown",
   "metadata": {},
   "source": [
    "### To make this work, you have to quickly grab the URL that opens when you\n",
    "\n",
    "### elect to download SOCDS data as a CSV\n"
   ]
  },
  {
   "cell_type": "code",
   "execution_count": 16,
   "metadata": {},
   "outputs": [
    {
     "data": {
      "application/vnd.plotly.v1+json": {
       "config": {
        "displayModeBar": false,
        "plotlyServerURL": "https://plot.ly"
       },
       "data": [
        {
         "customdata": [
          [
           439
          ],
          [
           256
          ],
          [
           534
          ],
          [
           400
          ],
          [
           422
          ],
          [
           334
          ],
          [
           364
          ],
          [
           339
          ],
          [
           424
          ],
          [
           26
          ],
          [
           346
          ],
          [
           152
          ],
          [
           200
          ],
          [
           191
          ],
          [
           245
          ],
          [
           381
          ],
          [
           308
          ],
          [
           348
          ],
          [
           398
          ],
          [
           267
          ],
          [
           213
          ],
          [
           273
          ],
          [
           131
          ],
          [
           196
          ],
          [
           240
          ],
          [
           221
          ],
          [
           234
          ],
          [
           290
          ],
          [
           254
          ],
          [
           205
          ],
          [
           0
          ],
          [
           0
          ],
          [
           0
          ],
          [
           0
          ],
          [
           0
          ],
          [
           0
          ]
         ],
         "hovertemplate": "<b>%{customdata[0]}</b><br><extra></extra>",
         "legendgroup": "Davidson",
         "line": {
          "color": "#636efa",
          "dash": "solid"
         },
         "marker": {
          "symbol": "circle"
         },
         "mode": "lines",
         "name": "Davidson",
         "orientation": "v",
         "showlegend": true,
         "type": "scatter",
         "x": [
          "2022-01-01T00:00:00",
          "2022-02-01T00:00:00",
          "2022-03-01T00:00:00",
          "2022-04-01T00:00:00",
          "2022-05-01T00:00:00",
          "2022-06-01T00:00:00",
          "2022-07-01T00:00:00",
          "2022-08-01T00:00:00",
          "2022-09-01T00:00:00",
          "2022-10-01T00:00:00",
          "2022-11-01T00:00:00",
          "2022-12-01T00:00:00",
          "2023-01-01T00:00:00",
          "2023-02-01T00:00:00",
          "2023-03-01T00:00:00",
          "2023-04-01T00:00:00",
          "2023-05-01T00:00:00",
          "2023-06-01T00:00:00",
          "2023-07-01T00:00:00",
          "2023-08-01T00:00:00",
          "2023-09-01T00:00:00",
          "2023-10-01T00:00:00",
          "2023-11-01T00:00:00",
          "2023-12-01T00:00:00",
          "2024-01-01T00:00:00",
          "2024-02-01T00:00:00",
          "2024-03-01T00:00:00",
          "2024-04-01T00:00:00",
          "2024-05-01T00:00:00",
          "2024-06-01T00:00:00",
          "2024-07-01T00:00:00",
          "2024-08-01T00:00:00",
          "2024-09-01T00:00:00",
          "2024-10-01T00:00:00",
          "2024-11-01T00:00:00",
          "2024-12-01T00:00:00"
         ],
         "xaxis": "x",
         "y": [
          439,
          256,
          534,
          400,
          422,
          334,
          364,
          339,
          424,
          26,
          346,
          152,
          200,
          191,
          245,
          381,
          308,
          348,
          398,
          267,
          213,
          273,
          131,
          196,
          240,
          221,
          234,
          290,
          254,
          205,
          0,
          0,
          0,
          0,
          0,
          0
         ],
         "yaxis": "y"
        },
        {
         "customdata": [
          [
           56
          ],
          [
           40
          ],
          [
           85
          ],
          [
           74
          ],
          [
           101
          ],
          [
           83
          ],
          [
           64
          ],
          [
           101
          ],
          [
           90
          ],
          [
           45
          ],
          [
           51
          ],
          [
           24
          ],
          [
           46
          ],
          [
           45
          ],
          [
           63
          ],
          [
           78
          ],
          [
           66
          ],
          [
           82
          ],
          [
           58
          ],
          [
           59
          ],
          [
           49
          ],
          [
           65
          ],
          [
           60
          ],
          [
           50
          ],
          [
           90
          ],
          [
           101
          ],
          [
           100
          ],
          [
           92
          ],
          [
           118
          ],
          [
           74
          ],
          [
           0
          ],
          [
           0
          ],
          [
           0
          ],
          [
           0
          ],
          [
           0
          ],
          [
           0
          ]
         ],
         "hovertemplate": "<b>%{customdata[0]}</b><br><extra></extra>",
         "legendgroup": "Robertson",
         "line": {
          "color": "#EF553B",
          "dash": "solid"
         },
         "marker": {
          "symbol": "circle"
         },
         "mode": "lines",
         "name": "Robertson",
         "orientation": "v",
         "showlegend": true,
         "type": "scatter",
         "x": [
          "2022-01-01T00:00:00",
          "2022-02-01T00:00:00",
          "2022-03-01T00:00:00",
          "2022-04-01T00:00:00",
          "2022-05-01T00:00:00",
          "2022-06-01T00:00:00",
          "2022-07-01T00:00:00",
          "2022-08-01T00:00:00",
          "2022-09-01T00:00:00",
          "2022-10-01T00:00:00",
          "2022-11-01T00:00:00",
          "2022-12-01T00:00:00",
          "2023-01-01T00:00:00",
          "2023-02-01T00:00:00",
          "2023-03-01T00:00:00",
          "2023-04-01T00:00:00",
          "2023-05-01T00:00:00",
          "2023-06-01T00:00:00",
          "2023-07-01T00:00:00",
          "2023-08-01T00:00:00",
          "2023-09-01T00:00:00",
          "2023-10-01T00:00:00",
          "2023-11-01T00:00:00",
          "2023-12-01T00:00:00",
          "2024-01-01T00:00:00",
          "2024-02-01T00:00:00",
          "2024-03-01T00:00:00",
          "2024-04-01T00:00:00",
          "2024-05-01T00:00:00",
          "2024-06-01T00:00:00",
          "2024-07-01T00:00:00",
          "2024-08-01T00:00:00",
          "2024-09-01T00:00:00",
          "2024-10-01T00:00:00",
          "2024-11-01T00:00:00",
          "2024-12-01T00:00:00"
         ],
         "xaxis": "x",
         "y": [
          56,
          40,
          85,
          74,
          101,
          83,
          64,
          101,
          90,
          45,
          51,
          24,
          46,
          45,
          63,
          78,
          66,
          82,
          58,
          59,
          49,
          65,
          60,
          50,
          90,
          101,
          100,
          92,
          118,
          74,
          0,
          0,
          0,
          0,
          0,
          0
         ],
         "yaxis": "y"
        },
        {
         "customdata": [
          [
           161
          ],
          [
           253
          ],
          [
           343
          ],
          [
           254
          ],
          [
           177
          ],
          [
           244
          ],
          [
           124
          ],
          [
           118
          ],
          [
           93
          ],
          [
           247
          ],
          [
           130
          ],
          [
           123
          ],
          [
           176
          ],
          [
           274
          ],
          [
           318
          ],
          [
           227
          ],
          [
           315
          ],
          [
           329
          ],
          [
           199
          ],
          [
           283
          ],
          [
           227
          ],
          [
           202
          ],
          [
           185
          ],
          [
           174
          ],
          [
           197
          ],
          [
           256
          ],
          [
           251
          ],
          [
           261
          ],
          [
           311
          ],
          [
           262
          ],
          [
           0
          ],
          [
           0
          ],
          [
           0
          ],
          [
           0
          ],
          [
           0
          ],
          [
           0
          ]
         ],
         "hovertemplate": "<b>%{customdata[0]}</b><br><extra></extra>",
         "legendgroup": "Rutherford",
         "line": {
          "color": "#00cc96",
          "dash": "solid"
         },
         "marker": {
          "symbol": "circle"
         },
         "mode": "lines",
         "name": "Rutherford",
         "orientation": "v",
         "showlegend": true,
         "type": "scatter",
         "x": [
          "2022-01-01T00:00:00",
          "2022-02-01T00:00:00",
          "2022-03-01T00:00:00",
          "2022-04-01T00:00:00",
          "2022-05-01T00:00:00",
          "2022-06-01T00:00:00",
          "2022-07-01T00:00:00",
          "2022-08-01T00:00:00",
          "2022-09-01T00:00:00",
          "2022-10-01T00:00:00",
          "2022-11-01T00:00:00",
          "2022-12-01T00:00:00",
          "2023-01-01T00:00:00",
          "2023-02-01T00:00:00",
          "2023-03-01T00:00:00",
          "2023-04-01T00:00:00",
          "2023-05-01T00:00:00",
          "2023-06-01T00:00:00",
          "2023-07-01T00:00:00",
          "2023-08-01T00:00:00",
          "2023-09-01T00:00:00",
          "2023-10-01T00:00:00",
          "2023-11-01T00:00:00",
          "2023-12-01T00:00:00",
          "2024-01-01T00:00:00",
          "2024-02-01T00:00:00",
          "2024-03-01T00:00:00",
          "2024-04-01T00:00:00",
          "2024-05-01T00:00:00",
          "2024-06-01T00:00:00",
          "2024-07-01T00:00:00",
          "2024-08-01T00:00:00",
          "2024-09-01T00:00:00",
          "2024-10-01T00:00:00",
          "2024-11-01T00:00:00",
          "2024-12-01T00:00:00"
         ],
         "xaxis": "x",
         "y": [
          161,
          253,
          343,
          254,
          177,
          244,
          124,
          118,
          93,
          247,
          130,
          123,
          176,
          274,
          318,
          227,
          315,
          329,
          199,
          283,
          227,
          202,
          185,
          174,
          197,
          256,
          251,
          261,
          311,
          262,
          0,
          0,
          0,
          0,
          0,
          0
         ],
         "yaxis": "y"
        },
        {
         "customdata": [
          [
           165
          ],
          [
           192
          ],
          [
           198
          ],
          [
           169
          ],
          [
           167
          ],
          [
           140
          ],
          [
           131
          ],
          [
           116
          ],
          [
           157
          ],
          [
           94
          ],
          [
           74
          ],
          [
           76
          ],
          [
           100
          ],
          [
           120
          ],
          [
           169
          ],
          [
           142
          ],
          [
           149
          ],
          [
           155
          ],
          [
           134
          ],
          [
           186
          ],
          [
           140
          ],
          [
           137
          ],
          [
           133
          ],
          [
           123
          ],
          [
           83
          ],
          [
           129
          ],
          [
           123
          ],
          [
           125
          ],
          [
           130
          ],
          [
           116
          ],
          [
           0
          ],
          [
           0
          ],
          [
           0
          ],
          [
           0
          ],
          [
           0
          ],
          [
           0
          ]
         ],
         "hovertemplate": "<b>%{customdata[0]}</b><br><extra></extra>",
         "legendgroup": "Williamson",
         "line": {
          "color": "#ab63fa",
          "dash": "solid"
         },
         "marker": {
          "symbol": "circle"
         },
         "mode": "lines",
         "name": "Williamson",
         "orientation": "v",
         "showlegend": true,
         "type": "scatter",
         "x": [
          "2022-01-01T00:00:00",
          "2022-02-01T00:00:00",
          "2022-03-01T00:00:00",
          "2022-04-01T00:00:00",
          "2022-05-01T00:00:00",
          "2022-06-01T00:00:00",
          "2022-07-01T00:00:00",
          "2022-08-01T00:00:00",
          "2022-09-01T00:00:00",
          "2022-10-01T00:00:00",
          "2022-11-01T00:00:00",
          "2022-12-01T00:00:00",
          "2023-01-01T00:00:00",
          "2023-02-01T00:00:00",
          "2023-03-01T00:00:00",
          "2023-04-01T00:00:00",
          "2023-05-01T00:00:00",
          "2023-06-01T00:00:00",
          "2023-07-01T00:00:00",
          "2023-08-01T00:00:00",
          "2023-09-01T00:00:00",
          "2023-10-01T00:00:00",
          "2023-11-01T00:00:00",
          "2023-12-01T00:00:00",
          "2024-01-01T00:00:00",
          "2024-02-01T00:00:00",
          "2024-03-01T00:00:00",
          "2024-04-01T00:00:00",
          "2024-05-01T00:00:00",
          "2024-06-01T00:00:00",
          "2024-07-01T00:00:00",
          "2024-08-01T00:00:00",
          "2024-09-01T00:00:00",
          "2024-10-01T00:00:00",
          "2024-11-01T00:00:00",
          "2024-12-01T00:00:00"
         ],
         "xaxis": "x",
         "y": [
          165,
          192,
          198,
          169,
          167,
          140,
          131,
          116,
          157,
          94,
          74,
          76,
          100,
          120,
          169,
          142,
          149,
          155,
          134,
          186,
          140,
          137,
          133,
          123,
          83,
          129,
          123,
          125,
          130,
          116,
          0,
          0,
          0,
          0,
          0,
          0
         ],
         "yaxis": "y"
        },
        {
         "customdata": [
          [
           161
          ],
          [
           239
          ],
          [
           222
          ],
          [
           307
          ],
          [
           194
          ],
          [
           178
          ],
          [
           98
          ],
          [
           118
          ],
          [
           152
          ],
          [
           135
          ],
          [
           111
          ],
          [
           91
          ],
          [
           102
          ],
          [
           104
          ],
          [
           185
          ],
          [
           156
          ],
          [
           219
          ],
          [
           220
          ],
          [
           147
          ],
          [
           106
          ],
          [
           132
          ],
          [
           160
          ],
          [
           156
          ],
          [
           149
          ],
          [
           108
          ],
          [
           163
          ],
          [
           76
          ],
          [
           129
          ],
          [
           203
          ],
          [
           210
          ],
          [
           0
          ],
          [
           0
          ],
          [
           0
          ],
          [
           0
          ],
          [
           0
          ],
          [
           0
          ]
         ],
         "hovertemplate": "<b>%{customdata[0]}</b><br><extra></extra>",
         "legendgroup": "Wilson",
         "line": {
          "color": "#FFA15A",
          "dash": "solid"
         },
         "marker": {
          "symbol": "circle"
         },
         "mode": "lines",
         "name": "Wilson",
         "orientation": "v",
         "showlegend": true,
         "type": "scatter",
         "x": [
          "2022-01-01T00:00:00",
          "2022-02-01T00:00:00",
          "2022-03-01T00:00:00",
          "2022-04-01T00:00:00",
          "2022-05-01T00:00:00",
          "2022-06-01T00:00:00",
          "2022-07-01T00:00:00",
          "2022-08-01T00:00:00",
          "2022-09-01T00:00:00",
          "2022-10-01T00:00:00",
          "2022-11-01T00:00:00",
          "2022-12-01T00:00:00",
          "2023-01-01T00:00:00",
          "2023-02-01T00:00:00",
          "2023-03-01T00:00:00",
          "2023-04-01T00:00:00",
          "2023-05-01T00:00:00",
          "2023-06-01T00:00:00",
          "2023-07-01T00:00:00",
          "2023-08-01T00:00:00",
          "2023-09-01T00:00:00",
          "2023-10-01T00:00:00",
          "2023-11-01T00:00:00",
          "2023-12-01T00:00:00",
          "2024-01-01T00:00:00",
          "2024-02-01T00:00:00",
          "2024-03-01T00:00:00",
          "2024-04-01T00:00:00",
          "2024-05-01T00:00:00",
          "2024-06-01T00:00:00",
          "2024-07-01T00:00:00",
          "2024-08-01T00:00:00",
          "2024-09-01T00:00:00",
          "2024-10-01T00:00:00",
          "2024-11-01T00:00:00",
          "2024-12-01T00:00:00"
         ],
         "xaxis": "x",
         "y": [
          161,
          239,
          222,
          307,
          194,
          178,
          98,
          118,
          152,
          135,
          111,
          91,
          102,
          104,
          185,
          156,
          219,
          220,
          147,
          106,
          132,
          160,
          156,
          149,
          108,
          163,
          76,
          129,
          203,
          210,
          0,
          0,
          0,
          0,
          0,
          0
         ],
         "yaxis": "y"
        }
       ],
       "layout": {
        "font": {
         "color": "white"
        },
        "hoverlabel": {
         "bgcolor": "rgba(115,115,115, 0.9)"
        },
        "hovermode": "x unified",
        "legend": {
         "title": {
          "text": "County"
         },
         "tracegroupgap": 0
        },
        "paper_bgcolor": "rgba(0,0,0,0)",
        "plot_bgcolor": "rgba(0,0,0,0)",
        "template": {
         "data": {
          "bar": [
           {
            "error_x": {
             "color": "#2a3f5f"
            },
            "error_y": {
             "color": "#2a3f5f"
            },
            "marker": {
             "line": {
              "color": "#E5ECF6",
              "width": 0.5
             },
             "pattern": {
              "fillmode": "overlay",
              "size": 10,
              "solidity": 0.2
             }
            },
            "type": "bar"
           }
          ],
          "barpolar": [
           {
            "marker": {
             "line": {
              "color": "#E5ECF6",
              "width": 0.5
             },
             "pattern": {
              "fillmode": "overlay",
              "size": 10,
              "solidity": 0.2
             }
            },
            "type": "barpolar"
           }
          ],
          "carpet": [
           {
            "aaxis": {
             "endlinecolor": "#2a3f5f",
             "gridcolor": "white",
             "linecolor": "white",
             "minorgridcolor": "white",
             "startlinecolor": "#2a3f5f"
            },
            "baxis": {
             "endlinecolor": "#2a3f5f",
             "gridcolor": "white",
             "linecolor": "white",
             "minorgridcolor": "white",
             "startlinecolor": "#2a3f5f"
            },
            "type": "carpet"
           }
          ],
          "choropleth": [
           {
            "colorbar": {
             "outlinewidth": 0,
             "ticks": ""
            },
            "type": "choropleth"
           }
          ],
          "contour": [
           {
            "colorbar": {
             "outlinewidth": 0,
             "ticks": ""
            },
            "colorscale": [
             [
              0,
              "#0d0887"
             ],
             [
              0.1111111111111111,
              "#46039f"
             ],
             [
              0.2222222222222222,
              "#7201a8"
             ],
             [
              0.3333333333333333,
              "#9c179e"
             ],
             [
              0.4444444444444444,
              "#bd3786"
             ],
             [
              0.5555555555555556,
              "#d8576b"
             ],
             [
              0.6666666666666666,
              "#ed7953"
             ],
             [
              0.7777777777777778,
              "#fb9f3a"
             ],
             [
              0.8888888888888888,
              "#fdca26"
             ],
             [
              1,
              "#f0f921"
             ]
            ],
            "type": "contour"
           }
          ],
          "contourcarpet": [
           {
            "colorbar": {
             "outlinewidth": 0,
             "ticks": ""
            },
            "type": "contourcarpet"
           }
          ],
          "heatmap": [
           {
            "colorbar": {
             "outlinewidth": 0,
             "ticks": ""
            },
            "colorscale": [
             [
              0,
              "#0d0887"
             ],
             [
              0.1111111111111111,
              "#46039f"
             ],
             [
              0.2222222222222222,
              "#7201a8"
             ],
             [
              0.3333333333333333,
              "#9c179e"
             ],
             [
              0.4444444444444444,
              "#bd3786"
             ],
             [
              0.5555555555555556,
              "#d8576b"
             ],
             [
              0.6666666666666666,
              "#ed7953"
             ],
             [
              0.7777777777777778,
              "#fb9f3a"
             ],
             [
              0.8888888888888888,
              "#fdca26"
             ],
             [
              1,
              "#f0f921"
             ]
            ],
            "type": "heatmap"
           }
          ],
          "heatmapgl": [
           {
            "colorbar": {
             "outlinewidth": 0,
             "ticks": ""
            },
            "colorscale": [
             [
              0,
              "#0d0887"
             ],
             [
              0.1111111111111111,
              "#46039f"
             ],
             [
              0.2222222222222222,
              "#7201a8"
             ],
             [
              0.3333333333333333,
              "#9c179e"
             ],
             [
              0.4444444444444444,
              "#bd3786"
             ],
             [
              0.5555555555555556,
              "#d8576b"
             ],
             [
              0.6666666666666666,
              "#ed7953"
             ],
             [
              0.7777777777777778,
              "#fb9f3a"
             ],
             [
              0.8888888888888888,
              "#fdca26"
             ],
             [
              1,
              "#f0f921"
             ]
            ],
            "type": "heatmapgl"
           }
          ],
          "histogram": [
           {
            "marker": {
             "pattern": {
              "fillmode": "overlay",
              "size": 10,
              "solidity": 0.2
             }
            },
            "type": "histogram"
           }
          ],
          "histogram2d": [
           {
            "colorbar": {
             "outlinewidth": 0,
             "ticks": ""
            },
            "colorscale": [
             [
              0,
              "#0d0887"
             ],
             [
              0.1111111111111111,
              "#46039f"
             ],
             [
              0.2222222222222222,
              "#7201a8"
             ],
             [
              0.3333333333333333,
              "#9c179e"
             ],
             [
              0.4444444444444444,
              "#bd3786"
             ],
             [
              0.5555555555555556,
              "#d8576b"
             ],
             [
              0.6666666666666666,
              "#ed7953"
             ],
             [
              0.7777777777777778,
              "#fb9f3a"
             ],
             [
              0.8888888888888888,
              "#fdca26"
             ],
             [
              1,
              "#f0f921"
             ]
            ],
            "type": "histogram2d"
           }
          ],
          "histogram2dcontour": [
           {
            "colorbar": {
             "outlinewidth": 0,
             "ticks": ""
            },
            "colorscale": [
             [
              0,
              "#0d0887"
             ],
             [
              0.1111111111111111,
              "#46039f"
             ],
             [
              0.2222222222222222,
              "#7201a8"
             ],
             [
              0.3333333333333333,
              "#9c179e"
             ],
             [
              0.4444444444444444,
              "#bd3786"
             ],
             [
              0.5555555555555556,
              "#d8576b"
             ],
             [
              0.6666666666666666,
              "#ed7953"
             ],
             [
              0.7777777777777778,
              "#fb9f3a"
             ],
             [
              0.8888888888888888,
              "#fdca26"
             ],
             [
              1,
              "#f0f921"
             ]
            ],
            "type": "histogram2dcontour"
           }
          ],
          "mesh3d": [
           {
            "colorbar": {
             "outlinewidth": 0,
             "ticks": ""
            },
            "type": "mesh3d"
           }
          ],
          "parcoords": [
           {
            "line": {
             "colorbar": {
              "outlinewidth": 0,
              "ticks": ""
             }
            },
            "type": "parcoords"
           }
          ],
          "pie": [
           {
            "automargin": true,
            "type": "pie"
           }
          ],
          "scatter": [
           {
            "fillpattern": {
             "fillmode": "overlay",
             "size": 10,
             "solidity": 0.2
            },
            "type": "scatter"
           }
          ],
          "scatter3d": [
           {
            "line": {
             "colorbar": {
              "outlinewidth": 0,
              "ticks": ""
             }
            },
            "marker": {
             "colorbar": {
              "outlinewidth": 0,
              "ticks": ""
             }
            },
            "type": "scatter3d"
           }
          ],
          "scattercarpet": [
           {
            "marker": {
             "colorbar": {
              "outlinewidth": 0,
              "ticks": ""
             }
            },
            "type": "scattercarpet"
           }
          ],
          "scattergeo": [
           {
            "marker": {
             "colorbar": {
              "outlinewidth": 0,
              "ticks": ""
             }
            },
            "type": "scattergeo"
           }
          ],
          "scattergl": [
           {
            "marker": {
             "colorbar": {
              "outlinewidth": 0,
              "ticks": ""
             }
            },
            "type": "scattergl"
           }
          ],
          "scattermapbox": [
           {
            "marker": {
             "colorbar": {
              "outlinewidth": 0,
              "ticks": ""
             }
            },
            "type": "scattermapbox"
           }
          ],
          "scatterpolar": [
           {
            "marker": {
             "colorbar": {
              "outlinewidth": 0,
              "ticks": ""
             }
            },
            "type": "scatterpolar"
           }
          ],
          "scatterpolargl": [
           {
            "marker": {
             "colorbar": {
              "outlinewidth": 0,
              "ticks": ""
             }
            },
            "type": "scatterpolargl"
           }
          ],
          "scatterternary": [
           {
            "marker": {
             "colorbar": {
              "outlinewidth": 0,
              "ticks": ""
             }
            },
            "type": "scatterternary"
           }
          ],
          "surface": [
           {
            "colorbar": {
             "outlinewidth": 0,
             "ticks": ""
            },
            "colorscale": [
             [
              0,
              "#0d0887"
             ],
             [
              0.1111111111111111,
              "#46039f"
             ],
             [
              0.2222222222222222,
              "#7201a8"
             ],
             [
              0.3333333333333333,
              "#9c179e"
             ],
             [
              0.4444444444444444,
              "#bd3786"
             ],
             [
              0.5555555555555556,
              "#d8576b"
             ],
             [
              0.6666666666666666,
              "#ed7953"
             ],
             [
              0.7777777777777778,
              "#fb9f3a"
             ],
             [
              0.8888888888888888,
              "#fdca26"
             ],
             [
              1,
              "#f0f921"
             ]
            ],
            "type": "surface"
           }
          ],
          "table": [
           {
            "cells": {
             "fill": {
              "color": "#EBF0F8"
             },
             "line": {
              "color": "white"
             }
            },
            "header": {
             "fill": {
              "color": "#C8D4E3"
             },
             "line": {
              "color": "white"
             }
            },
            "type": "table"
           }
          ]
         },
         "layout": {
          "annotationdefaults": {
           "arrowcolor": "#2a3f5f",
           "arrowhead": 0,
           "arrowwidth": 1
          },
          "autotypenumbers": "strict",
          "coloraxis": {
           "colorbar": {
            "outlinewidth": 0,
            "ticks": ""
           }
          },
          "colorscale": {
           "diverging": [
            [
             0,
             "#8e0152"
            ],
            [
             0.1,
             "#c51b7d"
            ],
            [
             0.2,
             "#de77ae"
            ],
            [
             0.3,
             "#f1b6da"
            ],
            [
             0.4,
             "#fde0ef"
            ],
            [
             0.5,
             "#f7f7f7"
            ],
            [
             0.6,
             "#e6f5d0"
            ],
            [
             0.7,
             "#b8e186"
            ],
            [
             0.8,
             "#7fbc41"
            ],
            [
             0.9,
             "#4d9221"
            ],
            [
             1,
             "#276419"
            ]
           ],
           "sequential": [
            [
             0,
             "#0d0887"
            ],
            [
             0.1111111111111111,
             "#46039f"
            ],
            [
             0.2222222222222222,
             "#7201a8"
            ],
            [
             0.3333333333333333,
             "#9c179e"
            ],
            [
             0.4444444444444444,
             "#bd3786"
            ],
            [
             0.5555555555555556,
             "#d8576b"
            ],
            [
             0.6666666666666666,
             "#ed7953"
            ],
            [
             0.7777777777777778,
             "#fb9f3a"
            ],
            [
             0.8888888888888888,
             "#fdca26"
            ],
            [
             1,
             "#f0f921"
            ]
           ],
           "sequentialminus": [
            [
             0,
             "#0d0887"
            ],
            [
             0.1111111111111111,
             "#46039f"
            ],
            [
             0.2222222222222222,
             "#7201a8"
            ],
            [
             0.3333333333333333,
             "#9c179e"
            ],
            [
             0.4444444444444444,
             "#bd3786"
            ],
            [
             0.5555555555555556,
             "#d8576b"
            ],
            [
             0.6666666666666666,
             "#ed7953"
            ],
            [
             0.7777777777777778,
             "#fb9f3a"
            ],
            [
             0.8888888888888888,
             "#fdca26"
            ],
            [
             1,
             "#f0f921"
            ]
           ]
          },
          "colorway": [
           "#636efa",
           "#EF553B",
           "#00cc96",
           "#ab63fa",
           "#FFA15A",
           "#19d3f3",
           "#FF6692",
           "#B6E880",
           "#FF97FF",
           "#FECB52"
          ],
          "font": {
           "color": "#2a3f5f"
          },
          "geo": {
           "bgcolor": "white",
           "lakecolor": "white",
           "landcolor": "#E5ECF6",
           "showlakes": true,
           "showland": true,
           "subunitcolor": "white"
          },
          "hoverlabel": {
           "align": "left"
          },
          "hovermode": "closest",
          "mapbox": {
           "style": "light"
          },
          "paper_bgcolor": "white",
          "plot_bgcolor": "#E5ECF6",
          "polar": {
           "angularaxis": {
            "gridcolor": "white",
            "linecolor": "white",
            "ticks": ""
           },
           "bgcolor": "#E5ECF6",
           "radialaxis": {
            "gridcolor": "white",
            "linecolor": "white",
            "ticks": ""
           }
          },
          "scene": {
           "xaxis": {
            "backgroundcolor": "#E5ECF6",
            "gridcolor": "white",
            "gridwidth": 2,
            "linecolor": "white",
            "showbackground": true,
            "ticks": "",
            "zerolinecolor": "white"
           },
           "yaxis": {
            "backgroundcolor": "#E5ECF6",
            "gridcolor": "white",
            "gridwidth": 2,
            "linecolor": "white",
            "showbackground": true,
            "ticks": "",
            "zerolinecolor": "white"
           },
           "zaxis": {
            "backgroundcolor": "#E5ECF6",
            "gridcolor": "white",
            "gridwidth": 2,
            "linecolor": "white",
            "showbackground": true,
            "ticks": "",
            "zerolinecolor": "white"
           }
          },
          "shapedefaults": {
           "line": {
            "color": "#2a3f5f"
           }
          },
          "ternary": {
           "aaxis": {
            "gridcolor": "white",
            "linecolor": "white",
            "ticks": ""
           },
           "baxis": {
            "gridcolor": "white",
            "linecolor": "white",
            "ticks": ""
           },
           "bgcolor": "#E5ECF6",
           "caxis": {
            "gridcolor": "white",
            "linecolor": "white",
            "ticks": ""
           }
          },
          "title": {
           "x": 0.05
          },
          "xaxis": {
           "automargin": true,
           "gridcolor": "white",
           "linecolor": "white",
           "ticks": "",
           "title": {
            "standoff": 15
           },
           "zerolinecolor": "white",
           "zerolinewidth": 2
          },
          "yaxis": {
           "automargin": true,
           "gridcolor": "white",
           "linecolor": "white",
           "ticks": "",
           "title": {
            "standoff": 15
           },
           "zerolinecolor": "white",
           "zerolinewidth": 2
          }
         }
        },
        "title": {
         "font": {
          "size": 22
         },
         "text": "Single Family Permits by County",
         "x": 0.5,
         "xanchor": "center"
        },
        "xaxis": {
         "anchor": "y",
         "domain": [
          0,
          1
         ],
         "showgrid": false,
         "title": {
          "text": "date"
         }
        },
        "yaxis": {
         "anchor": "x",
         "domain": [
          0,
          1
         ],
         "showgrid": false,
         "title": {
          "text": "Permits"
         }
        }
       }
      }
     },
     "metadata": {},
     "output_type": "display_data"
    }
   ],
   "source": [
    "# dynamically construct the query parameters for years & counties\n",
    "current_year = datetime.now().year\n",
    "year_list = list(range(starting_year, current_year + 1))\n",
    "year_list_str = '%23'.join(map(str, year_list))\n",
    "county_list_str = '%23'.join(map(str, county_dict.keys()))\n",
    "\n",
    "\n",
    "# read in the data; have to get this URL that is generated when you click to download the SOCDS data as a CSV\n",
    "url = f\"https://socds.huduser.gov/permits/output_monthly_csv.odb?outpref=csv&geoval=state&datatype=monthlyP&varlist=1%232%233%234%235%236&yearlist={year_list_str}&statelist=13&msalist=+&cbsalist=+&bppllist=+&cntylist={county_list_str}&COUNTYSUM=YES&COUNTYALL=+&COUNTYGRP=+&STATESUM=+&STATEALL=+&METROSUM=+&METROALL=+&METRO=+&CBSA=+&PLACEGRP=+&CSUMNAME=&JSUMNAME=+&geo=state&chron=monthlyP&_ga=GA1.1.1317611679.1717085682&_ga_YD74G0644V=GS1.1.1717549416.5.0.1717549416.0.0.0&_ga_CSLL4ZEK4L=GS1.1.1717549416.5.0.1717549416.0.0.0&__utmc=200893484&__utma=200893484.1317611679.1717085682.1719969523.1720011864.3&__utmz=200893484.1720011864.3.3.utmcsr%3Dgoogle%7Cutmccn%3D%28organic%29%7Cutmcmd%3Dorganic%7Cutmctr%3D%28not+provided%29&__utmt=1&__utmb=200893484.1.10.1720011864\"\n",
    "df = pd.read_csv(url)\n",
    "\n",
    "# extract just the county name\n",
    "df['county_name'] = df['Location'].str.split(' County').str[0]\n",
    "\n",
    "# Create a date column\n",
    "df['date'] = pd.to_datetime(df[['Year', 'Month']].assign(day=1))\n",
    "\n",
    "# rename values in the 'Series' column\n",
    "df['Series'] = df['Series'].replace({\n",
    "    'Units in Single-Family Structures': 'Single-Family Permits',\n",
    "    'Units in All Multi-Family Structures': 'Multi-Family Permits',\n",
    "    'Units in 2-unit Multi-Family Structures': 'Multi-Family Units (2 units)',\n",
    "    'Units in 3- and 4-unit Multi-Family Structures': 'Multi-Family Units (3-4 units)',\n",
    "    'Units in 5+ Unit Multi-Family Structures': 'Multi-Family Units (5+ units)'\n",
    "})\n",
    "\n",
    "# remove the \" County\" from \"Location\"\n",
    "df['Location'] = df['Location'].str.replace(' County', '')\n",
    "\n",
    "df = pd.merge(\n",
    "    df,\n",
    "    df_Tennessee_pop,\n",
    "    how='left',\n",
    "    left_on='Location',\n",
    "    right_on='County_name'\n",
    ")\n",
    "\n",
    "# pare down columns\n",
    "df = df[[\n",
    "    'county_name',\n",
    "    'FIPS',\n",
    "    'population',\n",
    "    'date',\n",
    "    'Series',\n",
    "    'Permits'\n",
    "]]\n",
    "\n",
    "# Create 'month_year' column with abbreviated month and year\n",
    "df['month_year'] = df['date'].dt.strftime('%b %Y')\n",
    "\n",
    "# After some consideration, and for Larry Long, just grab 'Single-Family Units';\n",
    "# available series include: 'All Permits', 'Single-Family Units', 'All Multifamily',\n",
    "# '2-Unit Multifamily', '3 & 4-Unit Multifamily', & '5+-Unit Multifamily'\n",
    "df = df[df['Series'] == 'Single-Family Permits']\n",
    "\n",
    "# see where the data 'stops' for a few of the biggest counties; should converge on a single month's data\n",
    "df_Chart = df[(df['Series'] == 'Single-Family Permits') & (\n",
    "    (df['county_name'] == 'Davidson') |\n",
    "    (df['county_name'] == 'Williamson') |\n",
    "    (df['county_name'] == 'Rutherford') |\n",
    "    (df['county_name'] == 'Wilson') |\n",
    "    (df['county_name'] == 'Robertson')\n",
    ")]\n",
    "\n",
    "fig = px.line(\n",
    "    df_Chart,\n",
    "    x='date',\n",
    "    y='Permits',\n",
    "    color='county_name',\n",
    "    title='Single Family Permits by County',\n",
    "    custom_data=['Permits'],\n",
    "    labels={\n",
    "        'county_name': 'County'\n",
    "    }\n",
    ")\n",
    "fig.update_layout({\n",
    "    'hovermode': \"x unified\",\n",
    "    'xaxis_showgrid': False,\n",
    "    'yaxis_showgrid': False,\n",
    "    'plot_bgcolor': 'rgba(0,0,0,0)',\n",
    "    'paper_bgcolor': 'rgba(0,0,0,0)',\n",
    "    'font_color': 'white',\n",
    "    'hoverlabel': dict(bgcolor='rgba(115,115,115, 0.9)'),\n",
    "    'title_x': 0.5,\n",
    "    'title_xanchor': 'center',\n",
    "    'title_font_size': 22\n",
    "})\n",
    "fig.update_traces(\n",
    "    hovertemplate=\"<b>%{customdata[0]}</b><br>\"\n",
    "    \"<extra></extra>\"\n",
    ")\n",
    "fig.show(config={'displayModeBar': False})"
   ]
  },
  {
   "cell_type": "markdown",
   "metadata": {},
   "source": [
    "### Create the KPI dataframe which will show 12-month totals\n"
   ]
  },
  {
   "cell_type": "code",
   "execution_count": 17,
   "metadata": {},
   "outputs": [
    {
     "name": "stdout",
     "output_type": "stream",
     "text": [
      "metro permit ratio: 69.14860982234623\n",
      "export complete!\n"
     ]
    },
    {
     "data": {
      "text/html": [
       "<div>\n",
       "<style scoped>\n",
       "    .dataframe tbody tr th:only-of-type {\n",
       "        vertical-align: middle;\n",
       "    }\n",
       "\n",
       "    .dataframe tbody tr th {\n",
       "        vertical-align: top;\n",
       "    }\n",
       "\n",
       "    .dataframe thead th {\n",
       "        text-align: right;\n",
       "    }\n",
       "</style>\n",
       "<table border=\"1\" class=\"dataframe\">\n",
       "  <thead>\n",
       "    <tr style=\"text-align: right;\">\n",
       "      <th></th>\n",
       "      <th>county_name</th>\n",
       "      <th>total_permits</th>\n",
       "      <th>population</th>\n",
       "      <th>permit_ratio</th>\n",
       "    </tr>\n",
       "  </thead>\n",
       "  <tbody>\n",
       "    <tr>\n",
       "      <th>0</th>\n",
       "      <td>Cannon</td>\n",
       "      <td>155.0</td>\n",
       "      <td>15063</td>\n",
       "      <td>102.901149</td>\n",
       "    </tr>\n",
       "    <tr>\n",
       "      <th>1</th>\n",
       "      <td>Cheatham</td>\n",
       "      <td>271.0</td>\n",
       "      <td>42254</td>\n",
       "      <td>64.135940</td>\n",
       "    </tr>\n",
       "    <tr>\n",
       "      <th>2</th>\n",
       "      <td>Davidson</td>\n",
       "      <td>2922.0</td>\n",
       "      <td>712334</td>\n",
       "      <td>41.020083</td>\n",
       "    </tr>\n",
       "    <tr>\n",
       "      <th>3</th>\n",
       "      <td>Dickson</td>\n",
       "      <td>426.0</td>\n",
       "      <td>56729</td>\n",
       "      <td>75.093867</td>\n",
       "    </tr>\n",
       "    <tr>\n",
       "      <th>4</th>\n",
       "      <td>Hickman</td>\n",
       "      <td>114.0</td>\n",
       "      <td>25826</td>\n",
       "      <td>44.141563</td>\n",
       "    </tr>\n",
       "    <tr>\n",
       "      <th>5</th>\n",
       "      <td>Macon</td>\n",
       "      <td>166.0</td>\n",
       "      <td>26793</td>\n",
       "      <td>61.956481</td>\n",
       "    </tr>\n",
       "    <tr>\n",
       "      <th>6</th>\n",
       "      <td>Maury</td>\n",
       "      <td>1531.0</td>\n",
       "      <td>110760</td>\n",
       "      <td>138.226797</td>\n",
       "    </tr>\n",
       "    <tr>\n",
       "      <th>7</th>\n",
       "      <td>Robertson</td>\n",
       "      <td>916.0</td>\n",
       "      <td>76776</td>\n",
       "      <td>119.308117</td>\n",
       "    </tr>\n",
       "    <tr>\n",
       "      <th>8</th>\n",
       "      <td>Rutherford</td>\n",
       "      <td>2808.0</td>\n",
       "      <td>367101</td>\n",
       "      <td>76.491211</td>\n",
       "    </tr>\n",
       "    <tr>\n",
       "      <th>9</th>\n",
       "      <td>Smith</td>\n",
       "      <td>130.0</td>\n",
       "      <td>20538</td>\n",
       "      <td>63.297303</td>\n",
       "    </tr>\n",
       "    <tr>\n",
       "      <th>10</th>\n",
       "      <td>Sumner</td>\n",
       "      <td>1707.0</td>\n",
       "      <td>207994</td>\n",
       "      <td>82.069675</td>\n",
       "    </tr>\n",
       "    <tr>\n",
       "      <th>11</th>\n",
       "      <td>Trousdale</td>\n",
       "      <td>95.0</td>\n",
       "      <td>12271</td>\n",
       "      <td>77.418303</td>\n",
       "    </tr>\n",
       "    <tr>\n",
       "      <th>12</th>\n",
       "      <td>Williamson</td>\n",
       "      <td>1559.0</td>\n",
       "      <td>264460</td>\n",
       "      <td>58.950314</td>\n",
       "    </tr>\n",
       "    <tr>\n",
       "      <th>13</th>\n",
       "      <td>Wilson</td>\n",
       "      <td>1739.0</td>\n",
       "      <td>163674</td>\n",
       "      <td>106.247785</td>\n",
       "    </tr>\n",
       "  </tbody>\n",
       "</table>\n",
       "</div>"
      ],
      "text/plain": [
       "   county_name  total_permits  population  permit_ratio\n",
       "0       Cannon          155.0       15063    102.901149\n",
       "1     Cheatham          271.0       42254     64.135940\n",
       "2     Davidson         2922.0      712334     41.020083\n",
       "3      Dickson          426.0       56729     75.093867\n",
       "4      Hickman          114.0       25826     44.141563\n",
       "5        Macon          166.0       26793     61.956481\n",
       "6        Maury         1531.0      110760    138.226797\n",
       "7    Robertson          916.0       76776    119.308117\n",
       "8   Rutherford         2808.0      367101     76.491211\n",
       "9        Smith          130.0       20538     63.297303\n",
       "10      Sumner         1707.0      207994     82.069675\n",
       "11   Trousdale           95.0       12271     77.418303\n",
       "12  Williamson         1559.0      264460     58.950314\n",
       "13      Wilson         1739.0      163674    106.247785"
      ]
     },
     "execution_count": 17,
     "metadata": {},
     "output_type": "execute_result"
    }
   ],
   "source": [
    "# drop the 'Series' column since we're only taking Single Family\n",
    "df = df.drop(columns='Series')\n",
    "\n",
    "# based on chart above, choose last date with data\n",
    "df = df[df['date'] <= '2024-06-01']\n",
    "\n",
    "# Filter dataframe to include only the last 12 months\n",
    "max_date = df['date'].max()\n",
    "min_date = max_date - timedelta(days=365)\n",
    "df_filtered = df[(df['date'] >= min_date) & (df['date'] <= max_date)]\n",
    "\n",
    "# Group by county_name and aggregate permits to get 12-month totals\n",
    "grouped = df_filtered.groupby('county_name').agg(\n",
    "    total_permits=('Permits', 'sum'),\n",
    "    population=('population', 'first')\n",
    ").reset_index()\n",
    "\n",
    "grouped['permit_ratio'] = (\n",
    "    grouped['total_permits'] / grouped['population']) * 10000\n",
    "print(\n",
    "    f'metro permit ratio: {(grouped[\"total_permits\"].sum() / grouped[\"population\"].sum())*10000}')\n",
    "grouped.to_csv('building_permits_KPI.csv', index=False)\n",
    "print('export complete!')\n",
    "grouped"
   ]
  },
  {
   "cell_type": "markdown",
   "metadata": {},
   "source": [
    "### Create metrowide monthly totals which will power the line chart\n"
   ]
  },
  {
   "cell_type": "code",
   "execution_count": 18,
   "metadata": {},
   "outputs": [
    {
     "name": "stdout",
     "output_type": "stream",
     "text": [
      "export complete!\n"
     ]
    },
    {
     "data": {
      "text/html": [
       "<div>\n",
       "<style scoped>\n",
       "    .dataframe tbody tr th:only-of-type {\n",
       "        vertical-align: middle;\n",
       "    }\n",
       "\n",
       "    .dataframe tbody tr th {\n",
       "        vertical-align: top;\n",
       "    }\n",
       "\n",
       "    .dataframe thead th {\n",
       "        text-align: right;\n",
       "    }\n",
       "</style>\n",
       "<table border=\"1\" class=\"dataframe\">\n",
       "  <thead>\n",
       "    <tr style=\"text-align: right;\">\n",
       "      <th></th>\n",
       "      <th>county_name</th>\n",
       "      <th>FIPS</th>\n",
       "      <th>population</th>\n",
       "      <th>date</th>\n",
       "      <th>Permits</th>\n",
       "      <th>month_year</th>\n",
       "      <th>permit_ratio</th>\n",
       "    </tr>\n",
       "  </thead>\n",
       "  <tbody>\n",
       "    <tr>\n",
       "      <th>0</th>\n",
       "      <td>Cannon</td>\n",
       "      <td>47015</td>\n",
       "      <td>15063</td>\n",
       "      <td>2023-07-01</td>\n",
       "      <td>9.0</td>\n",
       "      <td>Jul 2023</td>\n",
       "      <td>5.974905</td>\n",
       "    </tr>\n",
       "    <tr>\n",
       "      <th>1</th>\n",
       "      <td>Cannon</td>\n",
       "      <td>47015</td>\n",
       "      <td>15063</td>\n",
       "      <td>2023-08-01</td>\n",
       "      <td>11.0</td>\n",
       "      <td>Aug 2023</td>\n",
       "      <td>7.302662</td>\n",
       "    </tr>\n",
       "    <tr>\n",
       "      <th>2</th>\n",
       "      <td>Cannon</td>\n",
       "      <td>47015</td>\n",
       "      <td>15063</td>\n",
       "      <td>2023-09-01</td>\n",
       "      <td>9.0</td>\n",
       "      <td>Sep 2023</td>\n",
       "      <td>5.974905</td>\n",
       "    </tr>\n",
       "  </tbody>\n",
       "</table>\n",
       "</div>"
      ],
      "text/plain": [
       "  county_name   FIPS  population       date  Permits month_year  permit_ratio\n",
       "0      Cannon  47015       15063 2023-07-01      9.0   Jul 2023      5.974905\n",
       "1      Cannon  47015       15063 2023-08-01     11.0   Aug 2023      7.302662\n",
       "2      Cannon  47015       15063 2023-09-01      9.0   Sep 2023      5.974905"
      ]
     },
     "execution_count": 18,
     "metadata": {},
     "output_type": "execute_result"
    }
   ],
   "source": [
    "# Calculate the total population for 'metro'\n",
    "unique_populations = df_filtered[[\n",
    "    'county_name', 'population']].drop_duplicates()\n",
    "total_population = unique_populations['population'].sum()\n",
    "\n",
    "# Aggregate permits for each month\n",
    "metro_data = df_filtered.groupby('date').agg({'Permits': 'sum'}).reset_index()\n",
    "metro_data['county_name'] = 'Metro'\n",
    "metro_data['FIPS'] = 'n/a'\n",
    "metro_data['month_year'] = metro_data['date'].dt.strftime('%b %Y')\n",
    "metro_data['population'] = total_population\n",
    "\n",
    "# Reorder columns to match the original DataFrame\n",
    "metro_data = metro_data[[\n",
    "    'county_name',\n",
    "    'FIPS',\n",
    "    'population',\n",
    "    'date',\n",
    "    'Permits',\n",
    "    'month_year',\n",
    "]]\n",
    "\n",
    "# Concatenate the metrowide with the original, filtered data\n",
    "df_final = pd.concat([df_filtered, metro_data], ignore_index=True)\n",
    "\n",
    "# create the permit ratio\n",
    "df_final['permit_ratio'] = (\n",
    "    df_final['Permits'] / df_final['population']) * 10000\n",
    "\n",
    "df_final.to_csv('building_permits.csv', index=False)\n",
    "print('export complete!')\n",
    "df_final.head(3)"
   ]
  }
 ],
 "metadata": {
  "kernelspec": {
   "display_name": "research",
   "language": "python",
   "name": "research"
  },
  "language_info": {
   "codemirror_mode": {
    "name": "ipython",
    "version": 3
   },
   "file_extension": ".py",
   "mimetype": "text/x-python",
   "name": "python",
   "nbconvert_exporter": "python",
   "pygments_lexer": "ipython3",
   "version": "3.11.9"
  }
 },
 "nbformat": 4,
 "nbformat_minor": 2
}
